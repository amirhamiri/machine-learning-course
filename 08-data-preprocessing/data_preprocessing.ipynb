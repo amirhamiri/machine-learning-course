{
 "cells": [
  {
   "cell_type": "markdown",
   "id": "159c58c1",
   "metadata": {},
   "source": [
    "## Importing the Libraries"
   ]
  },
  {
   "cell_type": "code",
   "execution_count": 30,
   "id": "a8990f53",
   "metadata": {},
   "outputs": [],
   "source": [
    "import pandas as pd\n",
    "import numpy as np\n",
    "import matplotlib.pyplot as plt"
   ]
  },
  {
   "cell_type": "markdown",
   "id": "19639213",
   "metadata": {},
   "source": [
    "## Importing the Dataset"
   ]
  },
  {
   "cell_type": "code",
   "execution_count": 31,
   "id": "d353db9f",
   "metadata": {},
   "outputs": [],
   "source": [
    "df = pd.read_csv(\"insurance.csv\")\n",
    "X = df.iloc[:, :-1].values\n",
    "y = df.iloc[:, -1].values"
   ]
  },
  {
   "cell_type": "markdown",
   "id": "30e0f0d6",
   "metadata": {},
   "source": [
    "## Handling Missing Values"
   ]
  },
  {
   "cell_type": "markdown",
   "id": "746cf919",
   "metadata": {},
   "source": [
    "### 1- Identification"
   ]
  },
  {
   "cell_type": "code",
   "execution_count": 32,
   "id": "764a8d64",
   "metadata": {},
   "outputs": [
    {
     "data": {
      "text/plain": [
       "age         1\n",
       "sex         2\n",
       "bmi         1\n",
       "children    0\n",
       "smoker      0\n",
       "region      0\n",
       "charges     0\n",
       "dtype: int64"
      ]
     },
     "execution_count": 32,
     "metadata": {},
     "output_type": "execute_result"
    }
   ],
   "source": [
    "missing_values = df.isnull().sum()\n",
    "missing_values"
   ]
  },
  {
   "cell_type": "markdown",
   "id": "f759813e",
   "metadata": {},
   "source": [
    "### 2- Imputation methods"
   ]
  },
  {
   "cell_type": "code",
   "execution_count": 33,
   "id": "a62af977",
   "metadata": {},
   "outputs": [
    {
     "name": "stdout",
     "output_type": "stream",
     "text": [
      "[[19.0 'female' nan 0 'yes' 'southwest']\n",
      " [18.0 'male' 33.77 1 'no' 'southeast']\n",
      " [28.0 'male' 33.0 3 'no' 'southeast']\n",
      " [39.21166791323859 'male' 22.705 0 'no' 'northwest']\n",
      " [32.0 'male' 28.88 0 'no' 'northwest']\n",
      " [31.0 nan 25.74 0 'no' 'southeast']\n",
      " [46.0 nan 33.44 1 'no' 'southeast']\n",
      " [37.0 'female' 27.74 3 'no' 'northwest']\n",
      " [37.0 'male' 29.83 2 'no' 'northeast']\n",
      " [60.0 'female' 25.84 0 'no' 'northwest']]\n"
     ]
    }
   ],
   "source": [
    "# using pandas\n",
    "# df['sex'].fillna(df['sex'].mode()[0], inplace=True)\n",
    "\n",
    "# missing_values_age = df['sex'].isnull().sum()\n",
    "# missing_values_age\n",
    "# df.head(10)\n",
    "\n",
    "# using skitlearn\n",
    "from sklearn.impute import SimpleImputer\n",
    "imputer = SimpleImputer(missing_values=np.nan, strategy='mean')\n",
    "imputer.fit(X[:, :1])\n",
    "X[:, :1] = imputer.transform(X[:, :1])\n",
    "print(X[:10])"
   ]
  },
  {
   "cell_type": "markdown",
   "id": "087bc6fe",
   "metadata": {},
   "source": [
    "### 3- Deletion strategies"
   ]
  },
  {
   "cell_type": "code",
   "execution_count": 34,
   "id": "6d4e196b-654b-4474-a483-634492eada8c",
   "metadata": {},
   "outputs": [
    {
     "data": {
      "text/plain": [
       "children    0\n",
       "smoker      0\n",
       "region      0\n",
       "charges     0\n",
       "dtype: int64"
      ]
     },
     "execution_count": 34,
     "metadata": {},
     "output_type": "execute_result"
    }
   ],
   "source": [
    "# df_cleaned_rows = df.dropna()\n",
    "\n",
    "df_cleaned_columns = df.dropna(axis=1)\n",
    "missing_values = df_cleaned_columns.isnull().sum()\n",
    "missing_values"
   ]
  },
  {
   "cell_type": "markdown",
   "id": "ecad20f5",
   "metadata": {},
   "source": [
    "## Encoding Variables"
   ]
  },
  {
   "cell_type": "markdown",
   "id": "6947d117",
   "metadata": {},
   "source": [
    "### 1- Independent Variable"
   ]
  },
  {
   "cell_type": "markdown",
   "id": "ab0303fa-df80-487c-93b6-4d217ee7ac19",
   "metadata": {},
   "source": [
    "#### using pandas"
   ]
  },
  {
   "cell_type": "code",
   "execution_count": 35,
   "id": "031fc432-6ac3-4100-b8e1-f31d20dfda0b",
   "metadata": {},
   "outputs": [],
   "source": [
    "# import pandas as pd\n",
    "# from sklearn.preprocessing import LabelEncoder\n",
    "\n",
    "# df = pd.read_csv(\"insurance.csv\")\n",
    "# X = df.iloc[:, :-1].values\n",
    "# y = df.iloc[:, -1].values\n",
    "\n",
    "\n",
    "# # label encoding\n",
    "# le_sex = LabelEncoder()\n",
    "# df['sex'] = le_sex.fit_transform(df['sex'])\n",
    "\n",
    "# # one hot encoding\n",
    "# # df = pd.get_dummies(df, columns=['smoker'], drop_first=True)\n",
    "# df = pd.get_dummies(df, columns=['region'], drop_first=True)\n",
    "\n",
    "# df.head(10)\n",
    "\n"
   ]
  },
  {
   "cell_type": "markdown",
   "id": "bc50ade4-5a14-4f81-9b43-8deafff19fa1",
   "metadata": {},
   "source": [
    "#### using sklearn"
   ]
  },
  {
   "cell_type": "code",
   "execution_count": 50,
   "id": "65abe04b-ffff-4aea-9334-fe4c23f73778",
   "metadata": {},
   "outputs": [
    {
     "name": "stdout",
     "output_type": "stream",
     "text": [
      "[[0.0 0.0 1.0 19.0 0 nan 0 1]\n",
      " [0.0 1.0 0.0 18.0 1 33.77 1 0]\n",
      " [0.0 1.0 0.0 28.0 1 33.0 3 0]\n",
      " [1.0 0.0 0.0 nan 1 22.705 0 0]\n",
      " [1.0 0.0 0.0 32.0 1 28.88 0 0]]\n"
     ]
    }
   ],
   "source": [
    "import pandas as pd\n",
    "from sklearn.preprocessing import OneHotEncoder, LabelEncoder\n",
    "from sklearn.compose import ColumnTransformer\n",
    "\n",
    "\n",
    "df = pd.read_csv(\"insurance.csv\")\n",
    "X = df.iloc[:, :-1].values\n",
    "y = df.iloc[:, -1].values\n",
    "\n",
    "\n",
    "# label encoding\n",
    "label_encoder = LabelEncoder()\n",
    "\n",
    "X[:, 1] = label_encoder.fit_transform(X[:, 1])\n",
    "X[:, 4] = label_encoder.fit_transform(X[:, 4])\n",
    "\n",
    "\n",
    "\n",
    "# one hot encoding\n",
    "encoder = OneHotEncoder(drop='first')\n",
    "\n",
    "\n",
    "column_transformer = ColumnTransformer(transformers=[('encoder', encoder, [5])],remainder='passthrough')\n",
    "\n",
    "\n",
    "X = column_transformer.fit_transform(X)\n",
    "\n",
    "print(X[:5, :]) "
   ]
  },
  {
   "cell_type": "markdown",
   "id": "3019cdd5",
   "metadata": {},
   "source": [
    "### 2- Dependent Variable"
   ]
  },
  {
   "cell_type": "markdown",
   "id": "0e34e4b7",
   "metadata": {},
   "source": [
    "## Splitting the Dataset"
   ]
  },
  {
   "cell_type": "code",
   "execution_count": 51,
   "id": "e5f435e1-da21-4dbc-ac6a-1df0dfbd4a19",
   "metadata": {},
   "outputs": [
    {
     "name": "stdout",
     "output_type": "stream",
     "text": [
      "[[1.0 0.0 0.0 ... 35.53 0 0]\n",
      " [1.0 0.0 0.0 ... 31.54 0 0]\n",
      " [0.0 0.0 1.0 ... 37.0 0 0]\n",
      " ...\n",
      " [0.0 1.0 0.0 ... 38.94 2 1]\n",
      " [1.0 0.0 0.0 ... 36.575 0 0]\n",
      " [0.0 0.0 0.0 ... 26.125 0 0]]\n"
     ]
    }
   ],
   "source": [
    "from sklearn.model_selection import train_test_split\n",
    "# df = pd.read_csv(\"insurance.csv\")\n",
    "# X = df.iloc[:, :-1].values\n",
    "# y = df.iloc[:, -1].values\n",
    "X_train, X_test, y_train, y_test = train_test_split(X, y, test_size = 0.2, random_state = 1)\n",
    "print(X_test)"
   ]
  },
  {
   "cell_type": "code",
   "execution_count": 38,
   "id": "7d29fb5a-bec1-4019-89b2-260d39636d0d",
   "metadata": {},
   "outputs": [
    {
     "data": {
      "text/plain": [
       "((1070, 7), (268, 7), (1338, 7))"
      ]
     },
     "execution_count": 38,
     "metadata": {},
     "output_type": "execute_result"
    }
   ],
   "source": [
    "# train_data, test_data = train_test_split(df, test_size=0.2, random_state=42)\n",
    "\n",
    "# train_data.shape, test_data.shape, df.shape"
   ]
  },
  {
   "cell_type": "markdown",
   "id": "cfb6ff1d",
   "metadata": {},
   "source": [
    "## Feature Scaling"
   ]
  },
  {
   "cell_type": "markdown",
   "id": "cdc5ff49",
   "metadata": {},
   "source": [
    "### 1- Normalization"
   ]
  },
  {
   "cell_type": "code",
   "execution_count": 48,
   "id": "c39f34c4-ec55-412a-a87f-3f9f8042f572",
   "metadata": {},
   "outputs": [
    {
     "name": "stdout",
     "output_type": "stream",
     "text": [
      "[[1.         0.         0.         ... 0.28625235 0.         0.        ]\n",
      " [0.         0.         1.         ... 0.14635459 0.2        0.        ]\n",
      " [0.         1.         0.         ... 0.57384988 0.         0.        ]\n",
      " ...\n",
      " [0.         0.         0.         ... 0.51116492 0.4        1.        ]\n",
      " [0.         1.         0.         ... 0.16841539 0.4        1.        ]\n",
      " [0.         1.         0.         ... 0.32230293 0.2        0.        ]]\n"
     ]
    }
   ],
   "source": [
    "from sklearn.preprocessing import MinMaxScaler\n",
    "\n",
    "min_max_scaler = MinMaxScaler()\n",
    "\n",
    "X_train = min_max_scaler.fit_transform(X_train)\n",
    "\n",
    "X_test = min_max_scaler.transform(X_test)\n",
    "\n",
    "print(X_train)\n"
   ]
  },
  {
   "cell_type": "markdown",
   "id": "ab20669b",
   "metadata": {},
   "source": [
    "### 2- Standardization"
   ]
  },
  {
   "cell_type": "code",
   "execution_count": 52,
   "id": "86394f0b-f4db-477a-ab27-f61e3892102e",
   "metadata": {},
   "outputs": [
    {
     "name": "stdout",
     "output_type": "stream",
     "text": [
      "[[ 1.76954066 -0.59822071 -0.57519194 ... -0.6649207  -0.90705771\n",
      "  -0.50874702]\n",
      " [-0.56511841 -0.59822071  1.73855008 ... -1.513884   -0.07894188\n",
      "  -0.50874702]\n",
      " [-0.56511841  1.67162383 -0.57519194 ...  1.08035192 -0.90705771\n",
      "  -0.50874702]\n",
      " ...\n",
      " [-0.56511841 -0.59822071 -0.57519194 ...  0.69995106  0.74917395\n",
      "   1.96561348]\n",
      " [-0.56511841  1.67162383 -0.57519194 ... -1.38000902  0.74917395\n",
      "   1.96561348]\n",
      " [-0.56511841  1.67162383 -0.57519194 ... -0.44614939 -0.07894188\n",
      "  -0.50874702]]\n"
     ]
    }
   ],
   "source": [
    "# from sklearn.preprocessing import StandardScaler\n",
    "\n",
    "# scaler = StandardScaler()\n",
    "\n",
    "# X_train = scaler.fit_transform(X_train)\n",
    "\n",
    "# X_test = scaler.transform(X_test)\n",
    "# print(X_train)"
   ]
  },
  {
   "cell_type": "markdown",
   "id": "31b249aa",
   "metadata": {},
   "source": [
    "## Feature Selection"
   ]
  },
  {
   "cell_type": "code",
   "execution_count": null,
   "id": "3b023769-a367-48db-ba3b-0fffbe44cf56",
   "metadata": {},
   "outputs": [],
   "source": []
  }
 ],
 "metadata": {
  "kernelspec": {
   "display_name": "myenv",
   "language": "python",
   "name": "myenv"
  },
  "language_info": {
   "codemirror_mode": {
    "name": "ipython",
    "version": 3
   },
   "file_extension": ".py",
   "mimetype": "text/x-python",
   "name": "python",
   "nbconvert_exporter": "python",
   "pygments_lexer": "ipython3",
   "version": "3.10.2"
  }
 },
 "nbformat": 4,
 "nbformat_minor": 5
}
