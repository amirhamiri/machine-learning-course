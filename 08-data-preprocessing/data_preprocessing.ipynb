{
 "cells": [
  {
   "cell_type": "markdown",
   "id": "159c58c1",
   "metadata": {},
   "source": [
    "## Importing the Libraries"
   ]
  },
  {
   "cell_type": "code",
   "execution_count": 1,
   "id": "a8990f53",
   "metadata": {},
   "outputs": [],
   "source": [
    "import pandas as pd\n",
    "import numpy as np\n",
    "import matplotlib.pyplot as plt"
   ]
  },
  {
   "cell_type": "markdown",
   "id": "19639213",
   "metadata": {},
   "source": [
    "## Importing the Dataset"
   ]
  },
  {
   "cell_type": "code",
   "execution_count": 2,
   "id": "d353db9f",
   "metadata": {},
   "outputs": [],
   "source": [
    "df = pd.read_csv(\"insurance.csv\")\n",
    "X = df.iloc[:, :-1].values\n",
    "y = df.iloc[:, -1].values"
   ]
  },
  {
   "cell_type": "markdown",
   "id": "30e0f0d6",
   "metadata": {},
   "source": [
    "## Handling Missing Values"
   ]
  },
  {
   "cell_type": "markdown",
   "id": "746cf919",
   "metadata": {},
   "source": [
    "### 1- Identification"
   ]
  },
  {
   "cell_type": "code",
   "execution_count": 3,
   "id": "764a8d64",
   "metadata": {},
   "outputs": [
    {
     "data": {
      "text/plain": [
       "age         1\n",
       "sex         2\n",
       "bmi         1\n",
       "children    0\n",
       "smoker      0\n",
       "region      0\n",
       "charges     0\n",
       "dtype: int64"
      ]
     },
     "execution_count": 3,
     "metadata": {},
     "output_type": "execute_result"
    }
   ],
   "source": [
    "missing_values = df.isnull().sum()\n",
    "missing_values"
   ]
  },
  {
   "cell_type": "markdown",
   "id": "f759813e",
   "metadata": {},
   "source": [
    "### 2- Imputation methods"
   ]
  },
  {
   "cell_type": "code",
   "execution_count": 6,
   "id": "a62af977",
   "metadata": {},
   "outputs": [
    {
     "name": "stdout",
     "output_type": "stream",
     "text": [
      "[[19.0 'female' nan 0 'yes' 'southwest']\n",
      " [18.0 'male' 33.77 1 'no' 'southeast']\n",
      " [28.0 'male' 33.0 3 'no' 'southeast']\n",
      " [39.21166791323859 'male' 22.705 0 'no' 'northwest']\n",
      " [32.0 'male' 28.88 0 'no' 'northwest']\n",
      " [31.0 nan 25.74 0 'no' 'southeast']\n",
      " [46.0 nan 33.44 1 'no' 'southeast']\n",
      " [37.0 'female' 27.74 3 'no' 'northwest']\n",
      " [37.0 'male' 29.83 2 'no' 'northeast']\n",
      " [60.0 'female' 25.84 0 'no' 'northwest']]\n"
     ]
    }
   ],
   "source": [
    "# using pandas\n",
    "# df['sex'].fillna(df['sex'].mode()[0], inplace=True)\n",
    "\n",
    "# missing_values_age = df['sex'].isnull().sum()\n",
    "# missing_values_age\n",
    "# df.head(10)\n",
    "\n",
    "# using skitlearn\n",
    "from sklearn.impute import SimpleImputer\n",
    "imputer = SimpleImputer(missing_values=np.nan, strategy='mean')\n",
    "imputer.fit(X[:, :1])\n",
    "X[:, :1] = imputer.transform(X[:, :1])\n",
    "print(X[:10])"
   ]
  },
  {
   "cell_type": "markdown",
   "id": "087bc6fe",
   "metadata": {},
   "source": [
    "### 3- Deletion strategies"
   ]
  },
  {
   "cell_type": "code",
   "execution_count": 6,
   "id": "6d4e196b-654b-4474-a483-634492eada8c",
   "metadata": {},
   "outputs": [
    {
     "data": {
      "text/plain": [
       "children    0\n",
       "smoker      0\n",
       "region      0\n",
       "charges     0\n",
       "dtype: int64"
      ]
     },
     "execution_count": 6,
     "metadata": {},
     "output_type": "execute_result"
    }
   ],
   "source": [
    "# df_cleaned_rows = df.dropna()\n",
    "\n",
    "df_cleaned_columns = df.dropna(axis=1)\n",
    "missing_values = df_cleaned_columns.isnull().sum()\n",
    "missing_values"
   ]
  },
  {
   "cell_type": "markdown",
   "id": "ecad20f5",
   "metadata": {},
   "source": [
    "## Encoding Variables"
   ]
  },
  {
   "cell_type": "markdown",
   "id": "6947d117",
   "metadata": {},
   "source": [
    "### 1- Independent Variable"
   ]
  },
  {
   "cell_type": "markdown",
   "id": "3019cdd5",
   "metadata": {},
   "source": [
    "### 2- Dependent Variable"
   ]
  },
  {
   "cell_type": "markdown",
   "id": "0e34e4b7",
   "metadata": {},
   "source": [
    "## Splitting the Dataset"
   ]
  },
  {
   "cell_type": "markdown",
   "id": "cfb6ff1d",
   "metadata": {},
   "source": [
    "## Feature Scaling"
   ]
  },
  {
   "cell_type": "markdown",
   "id": "cdc5ff49",
   "metadata": {},
   "source": [
    "### 1- Normalization"
   ]
  },
  {
   "cell_type": "markdown",
   "id": "ab20669b",
   "metadata": {},
   "source": [
    "### 2- Standardization"
   ]
  },
  {
   "cell_type": "markdown",
   "id": "31b249aa",
   "metadata": {},
   "source": [
    "## Feature Selection"
   ]
  }
 ],
 "metadata": {
  "kernelspec": {
   "display_name": "myenv",
   "language": "python",
   "name": "myenv"
  },
  "language_info": {
   "codemirror_mode": {
    "name": "ipython",
    "version": 3
   },
   "file_extension": ".py",
   "mimetype": "text/x-python",
   "name": "python",
   "nbconvert_exporter": "python",
   "pygments_lexer": "ipython3",
   "version": "3.10.2"
  }
 },
 "nbformat": 4,
 "nbformat_minor": 5
}
