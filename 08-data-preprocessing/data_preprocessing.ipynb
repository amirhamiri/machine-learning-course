{
 "cells": [
  {
   "cell_type": "markdown",
   "id": "159c58c1",
   "metadata": {},
   "source": [
    "## Importing the Libraries"
   ]
  },
  {
   "cell_type": "markdown",
   "id": "19639213",
   "metadata": {},
   "source": [
    "## Importing the Dataset"
   ]
  },
  {
   "cell_type": "markdown",
   "id": "30e0f0d6",
   "metadata": {},
   "source": [
    "## Handling Missing Values"
   ]
  },
  {
   "cell_type": "markdown",
   "id": "746cf919",
   "metadata": {},
   "source": [
    "### 1- Identification"
   ]
  },
  {
   "cell_type": "markdown",
   "id": "f759813e",
   "metadata": {},
   "source": [
    "### 2- Imputation methods"
   ]
  },
  {
   "cell_type": "markdown",
   "id": "087bc6fe",
   "metadata": {},
   "source": [
    "### 3- Deletion strategies"
   ]
  },
  {
   "cell_type": "markdown",
   "id": "ecad20f5",
   "metadata": {},
   "source": [
    "## Encoding Variables"
   ]
  },
  {
   "cell_type": "markdown",
   "id": "6947d117",
   "metadata": {},
   "source": [
    "### 1- Independent Variable"
   ]
  },
  {
   "cell_type": "markdown",
   "id": "3019cdd5",
   "metadata": {},
   "source": [
    "### 2- Dependent Variable"
   ]
  },
  {
   "cell_type": "markdown",
   "id": "0e34e4b7",
   "metadata": {},
   "source": [
    "## Splitting the Dataset"
   ]
  },
  {
   "cell_type": "markdown",
   "id": "cfb6ff1d",
   "metadata": {},
   "source": [
    "## Feature Scaling"
   ]
  },
  {
   "cell_type": "markdown",
   "id": "cdc5ff49",
   "metadata": {},
   "source": [
    "### 1- Normalization"
   ]
  },
  {
   "cell_type": "markdown",
   "id": "ab20669b",
   "metadata": {},
   "source": [
    "### 2- Standardization"
   ]
  },
  {
   "cell_type": "markdown",
   "id": "31b249aa",
   "metadata": {},
   "source": [
    "## Feature Selection"
   ]
  }
 ],
 "metadata": {
  "kernelspec": {
   "display_name": "myenv",
   "language": "python",
   "name": "myenv"
  },
  "language_info": {
   "codemirror_mode": {
    "name": "ipython",
    "version": 3
   },
   "file_extension": ".py",
   "mimetype": "text/x-python",
   "name": "python",
   "nbconvert_exporter": "python",
   "pygments_lexer": "ipython3",
   "version": "3.10.2"
  }
 },
 "nbformat": 4,
 "nbformat_minor": 5
}
