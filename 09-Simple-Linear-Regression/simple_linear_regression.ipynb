{
 "cells": [
  {
   "cell_type": "markdown",
   "id": "cb17993c",
   "metadata": {},
   "source": [
    "## 1. Importing Essential Libraries"
   ]
  },
  {
   "cell_type": "code",
   "execution_count": 109,
   "id": "13ad105a",
   "metadata": {},
   "outputs": [],
   "source": [
    "import pandas as pd\n",
    "import matplotlib.pyplot as plt\n",
    "from sklearn.model_selection import train_test_split\n",
    "from sklearn.linear_model import LinearRegression\n",
    "from sklearn.metrics import r2_score"
   ]
  },
  {
   "cell_type": "markdown",
   "id": "53fab7f0",
   "metadata": {},
   "source": [
    "## 2. Loading and Preprocessing the Dataset"
   ]
  },
  {
   "cell_type": "code",
   "execution_count": 113,
   "id": "44a4d3c0",
   "metadata": {},
   "outputs": [],
   "source": [
    "dataset_path = 'Salary_dataset.csv'\n",
    "df = pd.read_csv(dataset_path)\n",
    "\n",
    "\n",
    "X = df.iloc[:, :-1].values\n",
    "y = df.iloc[:, -1].values"
   ]
  },
  {
   "cell_type": "markdown",
   "id": "b2e56224",
   "metadata": {},
   "source": [
    "## 3. Creating Training and Testing Sets"
   ]
  },
  {
   "cell_type": "code",
   "execution_count": 98,
   "id": "909cb035",
   "metadata": {},
   "outputs": [],
   "source": [
    "test_size = 0.2  \n",
    "X_train, X_test, y_train, y_test = train_test_split(X, y, test_size=test_size, random_state=42)"
   ]
  },
  {
   "cell_type": "markdown",
   "id": "58836fd8",
   "metadata": {},
   "source": [
    "## 4. Developing the Regression Model\n"
   ]
  },
  {
   "cell_type": "code",
   "execution_count": 108,
   "id": "d46b9ae6",
   "metadata": {},
   "outputs": [],
   "source": [
    "linear_regressor = LinearRegression()\n",
    "linear_regressor.fit(X_train, y_train)"
   ]
  },
  {
   "cell_type": "markdown",
   "id": "d54fa597",
   "metadata": {},
   "source": [
    "## 5. Making Predictions on the Test Data\n"
   ]
  },
  {
   "cell_type": "code",
   "execution_count": 116,
   "id": "1b6bd59a",
   "metadata": {},
   "outputs": [],
   "source": [
    "y_predictions = linear_regressor.predict(X_test)"
   ]
  },
  {
   "cell_type": "markdown",
   "id": "39fa7ab8",
   "metadata": {},
   "source": [
    "## 6. Evaluating Model Performance\n"
   ]
  },
  {
   "cell_type": "code",
   "execution_count": 117,
   "id": "ff3922c7",
   "metadata": {},
   "outputs": [
    {
     "name": "stdout",
     "output_type": "stream",
     "text": [
      "R-squared Value: 0.9024461774180498\n"
     ]
    }
   ],
   "source": [
    "r2 = r2_score(y_test, y_predictions)\n",
    "\n",
    "print(f\"R-squared Value: {r2}\")"
   ]
  },
  {
   "cell_type": "markdown",
   "id": "330b5e88",
   "metadata": {},
   "source": [
    "## 7. Visualization of Regression Results\n"
   ]
  },
  {
   "cell_type": "code",
   "execution_count": 118,
   "id": "7160ea19",
   "metadata": {},
   "outputs": [
    {
     "data": {
      "image/png": "[encoded data removed]",
      "text/plain": [
       "<Figure size 432x288 with 1 Axes>"
      ]
     },
     "metadata": {
      "needs_background": "light"
     },
     "output_type": "display_data"
    }
   ],
   "source": [
    "plt.scatter(X_train, y_train, color='red')\n",
    "plt.plot(X, linear_regressor.predict(X), color='blue')\n",
    "plt.title('Simple Linear Regression')\n",
    "plt.xlabel('YearsExperience')\n",
    "plt.ylabel('Salary')\n",
    "plt.show()"
   ]
  },
  {
   "cell_type": "code",
   "execution_count": null,
   "id": "5983dfe4",
   "metadata": {},
   "outputs": [],
   "source": []
  }
 ],
 "metadata": {
  "kernelspec": {
   "display_name": "Python 3 (ipykernel)",
   "language": "python",
   "name": "python3"
  },
  "language_info": {
   "codemirror_mode": {
    "name": "ipython",
    "version": 3
   },
   "file_extension": ".py",
   "mimetype": "text/x-python",
   "name": "python",
   "nbconvert_exporter": "python",
   "pygments_lexer": "ipython3",
   "version": "3.9.12"
  }
 },
 "nbformat": 4,
 "nbformat_minor": 5
}
