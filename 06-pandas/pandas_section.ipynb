{
 "cells": [
  {
   "cell_type": "code",
   "execution_count": 2,
   "id": "e589b9a1-0b7a-41b7-a682-947250eb5640",
   "metadata": {
    "scrolled": true
   },
   "outputs": [],
   "source": [
    "import pandas as pd"
   ]
  },
  {
   "cell_type": "markdown",
   "id": "b6459ae2-7417-4ca6-b178-e7d4851dcece",
   "metadata": {},
   "source": [
    "### Creating a Data Frame"
   ]
  },
  {
   "cell_type": "code",
   "execution_count": 3,
   "id": "02db6308-d3d9-4e5a-8d8c-e227d0266129",
   "metadata": {},
   "outputs": [
    {
     "data": {
      "text/html": [
       "<div>\n",
       "<style scoped>\n",
       "    .dataframe tbody tr th:only-of-type {\n",
       "        vertical-align: middle;\n",
       "    }\n",
       "\n",
       "    .dataframe tbody tr th {\n",
       "        vertical-align: top;\n",
       "    }\n",
       "\n",
       "    .dataframe thead th {\n",
       "        text-align: right;\n",
       "    }\n",
       "</style>\n",
       "<table border=\"1\" class=\"dataframe\">\n",
       "  <thead>\n",
       "    <tr style=\"text-align: right;\">\n",
       "      <th></th>\n",
       "      <th>Name</th>\n",
       "      <th>Age</th>\n",
       "    </tr>\n",
       "  </thead>\n",
       "  <tbody>\n",
       "    <tr>\n",
       "      <th>0</th>\n",
       "      <td>Ali</td>\n",
       "      <td>25.0</td>\n",
       "    </tr>\n",
       "    <tr>\n",
       "      <th>1</th>\n",
       "      <td>Danial</td>\n",
       "      <td>22.0</td>\n",
       "    </tr>\n",
       "    <tr>\n",
       "      <th>2</th>\n",
       "      <td>Rezvan</td>\n",
       "      <td>NaN</td>\n",
       "    </tr>\n",
       "  </tbody>\n",
       "</table>\n",
       "</div>"
      ],
      "text/plain": [
       "     Name   Age\n",
       "0     Ali  25.0\n",
       "1  Danial  22.0\n",
       "2  Rezvan   NaN"
      ]
     },
     "execution_count": 3,
     "metadata": {},
     "output_type": "execute_result"
    }
   ],
   "source": [
    "data = {\n",
    "    'Name': ['Ali', 'Danial', 'Rezvan'],\n",
    "    'Age': [25, 22, None]\n",
    "}\n",
    "\n",
    "df = pd.DataFrame(data)\n",
    "\n",
    "df"
   ]
  },
  {
   "cell_type": "markdown",
   "id": "c89a9c29-869e-4084-9f6a-642b85fac73b",
   "metadata": {},
   "source": [
    "### Reading Data"
   ]
  },
  {
   "cell_type": "code",
   "execution_count": 4,
   "id": "54c39a30-f8b4-493d-9230-d30ec894fbbc",
   "metadata": {},
   "outputs": [],
   "source": [
    "csv_df = pd.read_csv(\"students.csv\")\n",
    "\n",
    "xlsx_df = pd.read_excel(\"students.xlsx\")"
   ]
  },
  {
   "cell_type": "markdown",
   "id": "49e73b2a-fc78-4cb5-b52b-2f08a8bbd94a",
   "metadata": {},
   "source": [
    "### Data Inspection"
   ]
  },
  {
   "cell_type": "code",
   "execution_count": 5,
   "id": "7805caa5-c203-4cce-9b1e-d7e9d7b652ff",
   "metadata": {},
   "outputs": [],
   "source": [
    "df = pd.read_csv(\"students.csv\")\n",
    "\n",
    "# df.head()\n",
    "\n",
    "# df.tail()\n",
    "\n",
    "# df.describe()\n",
    "\n",
    "# df.info()"
   ]
  },
  {
   "cell_type": "markdown",
   "id": "c4feeba8-0164-4b1d-b2f8-9873fac9092b",
   "metadata": {},
   "source": [
    "### Difference between Pandas Series and Numpy Arrays.\n"
   ]
  },
  {
   "cell_type": "code",
   "execution_count": 6,
   "id": "c8d4cc0d-08bc-4ec9-893b-85fac971f2c2",
   "metadata": {},
   "outputs": [
    {
     "name": "stdout",
     "output_type": "stream",
     "text": [
      "20.0\n",
      "20.0\n"
     ]
    }
   ],
   "source": [
    "import numpy as np\n",
    "import pandas as pd\n",
    "\n",
    "\n",
    "array = np.array([10, 20, 30])\n",
    "print(array.mean())\n",
    "\n",
    "series = pd.Series([10, 20, 30], index=['a', 'b', 'c'])\n",
    "print(series.mean())"
   ]
  },
  {
   "cell_type": "markdown",
   "id": "7f364279-3c20-4ce8-8f13-145ad504b676",
   "metadata": {},
   "source": [
    "### Indexing and Selection"
   ]
  },
  {
   "cell_type": "code",
   "execution_count": 7,
   "id": "5ea2ca13-9d94-44bd-a327-b8cc8e0056d9",
   "metadata": {},
   "outputs": [
    {
     "data": {
      "text/html": [
       "<div>\n",
       "<style scoped>\n",
       "    .dataframe tbody tr th:only-of-type {\n",
       "        vertical-align: middle;\n",
       "    }\n",
       "\n",
       "    .dataframe tbody tr th {\n",
       "        vertical-align: top;\n",
       "    }\n",
       "\n",
       "    .dataframe thead th {\n",
       "        text-align: right;\n",
       "    }\n",
       "</style>\n",
       "<table border=\"1\" class=\"dataframe\">\n",
       "  <thead>\n",
       "    <tr style=\"text-align: right;\">\n",
       "      <th></th>\n",
       "      <th>Name</th>\n",
       "      <th>GPA</th>\n",
       "    </tr>\n",
       "  </thead>\n",
       "  <tbody>\n",
       "    <tr>\n",
       "      <th>0</th>\n",
       "      <td>ALi</td>\n",
       "      <td>16.5</td>\n",
       "    </tr>\n",
       "    <tr>\n",
       "      <th>1</th>\n",
       "      <td>Danial</td>\n",
       "      <td>11.7</td>\n",
       "    </tr>\n",
       "    <tr>\n",
       "      <th>2</th>\n",
       "      <td>Mohammad</td>\n",
       "      <td>NaN</td>\n",
       "    </tr>\n",
       "    <tr>\n",
       "      <th>3</th>\n",
       "      <td>Javid</td>\n",
       "      <td>13.2</td>\n",
       "    </tr>\n",
       "    <tr>\n",
       "      <th>4</th>\n",
       "      <td>Karim</td>\n",
       "      <td>29.5</td>\n",
       "    </tr>\n",
       "    <tr>\n",
       "      <th>5</th>\n",
       "      <td>Fateme</td>\n",
       "      <td>NaN</td>\n",
       "    </tr>\n",
       "    <tr>\n",
       "      <th>6</th>\n",
       "      <td>Asal</td>\n",
       "      <td>15.6</td>\n",
       "    </tr>\n",
       "    <tr>\n",
       "      <th>7</th>\n",
       "      <td>Mina</td>\n",
       "      <td>6.1</td>\n",
       "    </tr>\n",
       "    <tr>\n",
       "      <th>8</th>\n",
       "      <td>Rezvan</td>\n",
       "      <td>14.3</td>\n",
       "    </tr>\n",
       "    <tr>\n",
       "      <th>9</th>\n",
       "      <td>Omid</td>\n",
       "      <td>18.0</td>\n",
       "    </tr>\n",
       "  </tbody>\n",
       "</table>\n",
       "</div>"
      ],
      "text/plain": [
       "       Name   GPA\n",
       "0       ALi  16.5\n",
       "1    Danial  11.7\n",
       "2  Mohammad   NaN\n",
       "3     Javid  13.2\n",
       "4     Karim  29.5\n",
       "5    Fateme   NaN\n",
       "6      Asal  15.6\n",
       "7      Mina   6.1\n",
       "8    Rezvan  14.3\n",
       "9      Omid  18.0"
      ]
     },
     "execution_count": 7,
     "metadata": {},
     "output_type": "execute_result"
    }
   ],
   "source": [
    "# print(df['Name'])\n",
    "# print(df[['Name', 'GPA']])\n",
    "\n",
    "# print(df.loc[0])\n",
    "\n",
    "# print(df.iloc[0:, 0:])\n",
    "df"
   ]
  },
  {
   "cell_type": "markdown",
   "id": "8fac6d56-339a-4f76-b6a0-a62921e7da88",
   "metadata": {},
   "source": [
    "### Data Cleaning"
   ]
  },
  {
   "cell_type": "code",
   "execution_count": 8,
   "id": "9186c235-fbe6-4db3-b6a8-006ec797c426",
   "metadata": {},
   "outputs": [],
   "source": [
    "# df.dropna(inplace=True)\n",
    "\n",
    "\n",
    "# df.rename(columns={'Name': 'Full Name'}, inplace=True)"
   ]
  },
  {
   "cell_type": "markdown",
   "id": "614e7463-7b0f-4c02-8d42-93b2e23d3f02",
   "metadata": {},
   "source": [
    "### Data Manipulation"
   ]
  },
  {
   "cell_type": "code",
   "execution_count": 9,
   "id": "d27d03a3-3129-4d2f-a72a-24194ca8cf75",
   "metadata": {},
   "outputs": [],
   "source": [
    "\n",
    "# data = {\n",
    "#     'Class': ['A', 'B', 'A', 'B', 'A', 'B'],\n",
    "#     'Students': [8, 8, 11, 12, 13, 11]\n",
    "# }\n",
    "\n",
    "# df = pd.DataFrame(data)\n",
    "\n",
    "\n",
    "# grouped = df.groupby('Class')\n",
    "\n",
    "# total_students = grouped['Students'].sum()\n",
    "\n",
    "# print(total_students)\n"
   ]
  },
  {
   "cell_type": "markdown",
   "id": "fbed49af-5752-4b61-9da7-fa19082b41d9",
   "metadata": {},
   "source": [
    "### Filtering"
   ]
  },
  {
   "cell_type": "code",
   "execution_count": 10,
   "id": "6820dbb9-d049-4935-8ce3-fdec045c609c",
   "metadata": {},
   "outputs": [
    {
     "data": {
      "text/html": [
       "<div>\n",
       "<style scoped>\n",
       "    .dataframe tbody tr th:only-of-type {\n",
       "        vertical-align: middle;\n",
       "    }\n",
       "\n",
       "    .dataframe tbody tr th {\n",
       "        vertical-align: top;\n",
       "    }\n",
       "\n",
       "    .dataframe thead th {\n",
       "        text-align: right;\n",
       "    }\n",
       "</style>\n",
       "<table border=\"1\" class=\"dataframe\">\n",
       "  <thead>\n",
       "    <tr style=\"text-align: right;\">\n",
       "      <th></th>\n",
       "      <th>Name</th>\n",
       "      <th>GPA</th>\n",
       "    </tr>\n",
       "  </thead>\n",
       "  <tbody>\n",
       "    <tr>\n",
       "      <th>4</th>\n",
       "      <td>Karim</td>\n",
       "      <td>29.5</td>\n",
       "    </tr>\n",
       "  </tbody>\n",
       "</table>\n",
       "</div>"
      ],
      "text/plain": [
       "    Name   GPA\n",
       "4  Karim  29.5"
      ]
     },
     "execution_count": 10,
     "metadata": {},
     "output_type": "execute_result"
    }
   ],
   "source": [
    "filtered_data = df[df['GPA'] > 20]\n",
    "filtered_data"
   ]
  },
  {
   "cell_type": "markdown",
   "id": "0b13383b-e325-4a5f-8de2-2249212c242f",
   "metadata": {},
   "source": [
    "### Sorting"
   ]
  },
  {
   "cell_type": "code",
   "execution_count": 11,
   "id": "b25a75eb-dc5e-4e4b-b208-07830d31fd01",
   "metadata": {},
   "outputs": [],
   "source": [
    "# sorted_data = df.sort_values(by='GPA')[::-1]\n",
    "# sorted_data"
   ]
  },
  {
   "cell_type": "markdown",
   "id": "5019a7b8-55b9-4050-bfb9-b3efeef8e411",
   "metadata": {},
   "source": [
    "### Creating New Columns"
   ]
  },
  {
   "cell_type": "code",
   "execution_count": 12,
   "id": "647dbac2-7636-45ca-ac19-ba6baf861824",
   "metadata": {},
   "outputs": [
    {
     "data": {
      "text/html": [
       "<div>\n",
       "<style scoped>\n",
       "    .dataframe tbody tr th:only-of-type {\n",
       "        vertical-align: middle;\n",
       "    }\n",
       "\n",
       "    .dataframe tbody tr th {\n",
       "        vertical-align: top;\n",
       "    }\n",
       "\n",
       "    .dataframe thead th {\n",
       "        text-align: right;\n",
       "    }\n",
       "</style>\n",
       "<table border=\"1\" class=\"dataframe\">\n",
       "  <thead>\n",
       "    <tr style=\"text-align: right;\">\n",
       "      <th></th>\n",
       "      <th>Name</th>\n",
       "      <th>GPA</th>\n",
       "      <th>NGPA</th>\n",
       "      <th>Age</th>\n",
       "    </tr>\n",
       "  </thead>\n",
       "  <tbody>\n",
       "    <tr>\n",
       "      <th>0</th>\n",
       "      <td>ALi</td>\n",
       "      <td>16.5</td>\n",
       "      <td>17.5</td>\n",
       "      <td>18</td>\n",
       "    </tr>\n",
       "    <tr>\n",
       "      <th>1</th>\n",
       "      <td>Danial</td>\n",
       "      <td>11.7</td>\n",
       "      <td>12.7</td>\n",
       "      <td>18</td>\n",
       "    </tr>\n",
       "    <tr>\n",
       "      <th>2</th>\n",
       "      <td>Mohammad</td>\n",
       "      <td>NaN</td>\n",
       "      <td>NaN</td>\n",
       "      <td>18</td>\n",
       "    </tr>\n",
       "    <tr>\n",
       "      <th>3</th>\n",
       "      <td>Javid</td>\n",
       "      <td>13.2</td>\n",
       "      <td>14.2</td>\n",
       "      <td>18</td>\n",
       "    </tr>\n",
       "    <tr>\n",
       "      <th>4</th>\n",
       "      <td>Karim</td>\n",
       "      <td>29.5</td>\n",
       "      <td>30.5</td>\n",
       "      <td>18</td>\n",
       "    </tr>\n",
       "    <tr>\n",
       "      <th>5</th>\n",
       "      <td>Fateme</td>\n",
       "      <td>NaN</td>\n",
       "      <td>NaN</td>\n",
       "      <td>18</td>\n",
       "    </tr>\n",
       "    <tr>\n",
       "      <th>6</th>\n",
       "      <td>Asal</td>\n",
       "      <td>15.6</td>\n",
       "      <td>16.6</td>\n",
       "      <td>18</td>\n",
       "    </tr>\n",
       "    <tr>\n",
       "      <th>7</th>\n",
       "      <td>Mina</td>\n",
       "      <td>6.1</td>\n",
       "      <td>7.1</td>\n",
       "      <td>18</td>\n",
       "    </tr>\n",
       "    <tr>\n",
       "      <th>8</th>\n",
       "      <td>Rezvan</td>\n",
       "      <td>14.3</td>\n",
       "      <td>15.3</td>\n",
       "      <td>18</td>\n",
       "    </tr>\n",
       "    <tr>\n",
       "      <th>9</th>\n",
       "      <td>Omid</td>\n",
       "      <td>18.0</td>\n",
       "      <td>19.0</td>\n",
       "      <td>18</td>\n",
       "    </tr>\n",
       "  </tbody>\n",
       "</table>\n",
       "</div>"
      ],
      "text/plain": [
       "       Name   GPA  NGPA  Age\n",
       "0       ALi  16.5  17.5   18\n",
       "1    Danial  11.7  12.7   18\n",
       "2  Mohammad   NaN   NaN   18\n",
       "3     Javid  13.2  14.2   18\n",
       "4     Karim  29.5  30.5   18\n",
       "5    Fateme   NaN   NaN   18\n",
       "6      Asal  15.6  16.6   18\n",
       "7      Mina   6.1   7.1   18\n",
       "8    Rezvan  14.3  15.3   18\n",
       "9      Omid  18.0  19.0   18"
      ]
     },
     "execution_count": 12,
     "metadata": {},
     "output_type": "execute_result"
    }
   ],
   "source": [
    "from random import randint\n",
    "df['NGPA'] = df['GPA'] + 1\n",
    "df['Age'] = 18\n",
    "df"
   ]
  },
  {
   "cell_type": "markdown",
   "id": "c74ddc4a-881e-4ebf-a271-fbbbd3f8f948",
   "metadata": {},
   "source": [
    "### Applying Functions"
   ]
  },
  {
   "cell_type": "code",
   "execution_count": 13,
   "id": "8b0b54bd-6ccd-4b0a-b57b-9a801db7121a",
   "metadata": {},
   "outputs": [
    {
     "data": {
      "text/html": [
       "<div>\n",
       "<style scoped>\n",
       "    .dataframe tbody tr th:only-of-type {\n",
       "        vertical-align: middle;\n",
       "    }\n",
       "\n",
       "    .dataframe tbody tr th {\n",
       "        vertical-align: top;\n",
       "    }\n",
       "\n",
       "    .dataframe thead th {\n",
       "        text-align: right;\n",
       "    }\n",
       "</style>\n",
       "<table border=\"1\" class=\"dataframe\">\n",
       "  <thead>\n",
       "    <tr style=\"text-align: right;\">\n",
       "      <th></th>\n",
       "      <th>Name</th>\n",
       "      <th>GPA</th>\n",
       "      <th>NGPA</th>\n",
       "      <th>Age</th>\n",
       "    </tr>\n",
       "  </thead>\n",
       "  <tbody>\n",
       "    <tr>\n",
       "      <th>0</th>\n",
       "      <td>ALi</td>\n",
       "      <td>16.5</td>\n",
       "      <td>17.5</td>\n",
       "      <td>19</td>\n",
       "    </tr>\n",
       "    <tr>\n",
       "      <th>1</th>\n",
       "      <td>Danial</td>\n",
       "      <td>11.7</td>\n",
       "      <td>12.7</td>\n",
       "      <td>19</td>\n",
       "    </tr>\n",
       "    <tr>\n",
       "      <th>2</th>\n",
       "      <td>Mohammad</td>\n",
       "      <td>NaN</td>\n",
       "      <td>NaN</td>\n",
       "      <td>19</td>\n",
       "    </tr>\n",
       "    <tr>\n",
       "      <th>3</th>\n",
       "      <td>Javid</td>\n",
       "      <td>13.2</td>\n",
       "      <td>14.2</td>\n",
       "      <td>19</td>\n",
       "    </tr>\n",
       "    <tr>\n",
       "      <th>4</th>\n",
       "      <td>Karim</td>\n",
       "      <td>29.5</td>\n",
       "      <td>30.5</td>\n",
       "      <td>19</td>\n",
       "    </tr>\n",
       "    <tr>\n",
       "      <th>5</th>\n",
       "      <td>Fateme</td>\n",
       "      <td>NaN</td>\n",
       "      <td>NaN</td>\n",
       "      <td>19</td>\n",
       "    </tr>\n",
       "    <tr>\n",
       "      <th>6</th>\n",
       "      <td>Asal</td>\n",
       "      <td>15.6</td>\n",
       "      <td>16.6</td>\n",
       "      <td>19</td>\n",
       "    </tr>\n",
       "    <tr>\n",
       "      <th>7</th>\n",
       "      <td>Mina</td>\n",
       "      <td>6.1</td>\n",
       "      <td>7.1</td>\n",
       "      <td>19</td>\n",
       "    </tr>\n",
       "    <tr>\n",
       "      <th>8</th>\n",
       "      <td>Rezvan</td>\n",
       "      <td>14.3</td>\n",
       "      <td>15.3</td>\n",
       "      <td>19</td>\n",
       "    </tr>\n",
       "    <tr>\n",
       "      <th>9</th>\n",
       "      <td>Omid</td>\n",
       "      <td>18.0</td>\n",
       "      <td>19.0</td>\n",
       "      <td>19</td>\n",
       "    </tr>\n",
       "  </tbody>\n",
       "</table>\n",
       "</div>"
      ],
      "text/plain": [
       "       Name   GPA  NGPA  Age\n",
       "0       ALi  16.5  17.5   19\n",
       "1    Danial  11.7  12.7   19\n",
       "2  Mohammad   NaN   NaN   19\n",
       "3     Javid  13.2  14.2   19\n",
       "4     Karim  29.5  30.5   19\n",
       "5    Fateme   NaN   NaN   19\n",
       "6      Asal  15.6  16.6   19\n",
       "7      Mina   6.1   7.1   19\n",
       "8    Rezvan  14.3  15.3   19\n",
       "9      Omid  18.0  19.0   19"
      ]
     },
     "execution_count": 13,
     "metadata": {},
     "output_type": "execute_result"
    }
   ],
   "source": [
    "# def add_age(x):\n",
    "#     # task\n",
    "#     return x + 1\n",
    "\n",
    "df['Age'] = df['Age'].apply(lambda x: x + 1)\n",
    "df"
   ]
  },
  {
   "cell_type": "markdown",
   "id": "d1eda564-4e03-4ccf-a7ee-c5411d15546d",
   "metadata": {},
   "source": [
    "### Grouping"
   ]
  },
  {
   "cell_type": "code",
   "execution_count": 14,
   "id": "c0b39aa3-43bf-4c7c-82c4-47a88176674b",
   "metadata": {},
   "outputs": [],
   "source": [
    "# df.loc[:5, 'Age'] = df.loc[:5, 'Age'].apply(lambda x: x + 1) \n",
    "# df\n",
    "\n",
    "\n",
    "# grouped = df.groupby('Age')\n",
    "\n",
    "\n",
    "# gpa_mean = grouped['GPA'].mean()\n",
    "\n",
    "# print(gpa_mean)"
   ]
  },
  {
   "cell_type": "markdown",
   "id": "48b4e447-fab4-4949-8c66-975f24325f40",
   "metadata": {},
   "source": [
    "### Handling Missing Values"
   ]
  },
  {
   "cell_type": "code",
   "execution_count": 15,
   "id": "77fb7813-febd-49be-8b6a-2a516b65a336",
   "metadata": {},
   "outputs": [],
   "source": [
    "df\n",
    "df.fillna(value=0, inplace=True)"
   ]
  },
  {
   "cell_type": "code",
   "execution_count": 16,
   "id": "9f489d93-dd74-44aa-9e25-d9b8a08621cd",
   "metadata": {},
   "outputs": [
    {
     "data": {
      "text/html": [
       "<div>\n",
       "<style scoped>\n",
       "    .dataframe tbody tr th:only-of-type {\n",
       "        vertical-align: middle;\n",
       "    }\n",
       "\n",
       "    .dataframe tbody tr th {\n",
       "        vertical-align: top;\n",
       "    }\n",
       "\n",
       "    .dataframe thead th {\n",
       "        text-align: right;\n",
       "    }\n",
       "</style>\n",
       "<table border=\"1\" class=\"dataframe\">\n",
       "  <thead>\n",
       "    <tr style=\"text-align: right;\">\n",
       "      <th></th>\n",
       "      <th>Name</th>\n",
       "      <th>GPA</th>\n",
       "      <th>NGPA</th>\n",
       "      <th>Age</th>\n",
       "    </tr>\n",
       "  </thead>\n",
       "  <tbody>\n",
       "    <tr>\n",
       "      <th>0</th>\n",
       "      <td>ALi</td>\n",
       "      <td>16.5</td>\n",
       "      <td>17.5</td>\n",
       "      <td>19</td>\n",
       "    </tr>\n",
       "    <tr>\n",
       "      <th>1</th>\n",
       "      <td>Danial</td>\n",
       "      <td>11.7</td>\n",
       "      <td>12.7</td>\n",
       "      <td>19</td>\n",
       "    </tr>\n",
       "    <tr>\n",
       "      <th>2</th>\n",
       "      <td>Mohammad</td>\n",
       "      <td>0.0</td>\n",
       "      <td>0.0</td>\n",
       "      <td>19</td>\n",
       "    </tr>\n",
       "    <tr>\n",
       "      <th>3</th>\n",
       "      <td>Javid</td>\n",
       "      <td>13.2</td>\n",
       "      <td>14.2</td>\n",
       "      <td>19</td>\n",
       "    </tr>\n",
       "    <tr>\n",
       "      <th>4</th>\n",
       "      <td>Karim</td>\n",
       "      <td>29.5</td>\n",
       "      <td>30.5</td>\n",
       "      <td>19</td>\n",
       "    </tr>\n",
       "    <tr>\n",
       "      <th>5</th>\n",
       "      <td>Fateme</td>\n",
       "      <td>0.0</td>\n",
       "      <td>0.0</td>\n",
       "      <td>19</td>\n",
       "    </tr>\n",
       "    <tr>\n",
       "      <th>6</th>\n",
       "      <td>Asal</td>\n",
       "      <td>15.6</td>\n",
       "      <td>16.6</td>\n",
       "      <td>19</td>\n",
       "    </tr>\n",
       "    <tr>\n",
       "      <th>7</th>\n",
       "      <td>Mina</td>\n",
       "      <td>6.1</td>\n",
       "      <td>7.1</td>\n",
       "      <td>19</td>\n",
       "    </tr>\n",
       "    <tr>\n",
       "      <th>8</th>\n",
       "      <td>Rezvan</td>\n",
       "      <td>14.3</td>\n",
       "      <td>15.3</td>\n",
       "      <td>19</td>\n",
       "    </tr>\n",
       "    <tr>\n",
       "      <th>9</th>\n",
       "      <td>Omid</td>\n",
       "      <td>18.0</td>\n",
       "      <td>19.0</td>\n",
       "      <td>19</td>\n",
       "    </tr>\n",
       "  </tbody>\n",
       "</table>\n",
       "</div>"
      ],
      "text/plain": [
       "       Name   GPA  NGPA  Age\n",
       "0       ALi  16.5  17.5   19\n",
       "1    Danial  11.7  12.7   19\n",
       "2  Mohammad   0.0   0.0   19\n",
       "3     Javid  13.2  14.2   19\n",
       "4     Karim  29.5  30.5   19\n",
       "5    Fateme   0.0   0.0   19\n",
       "6      Asal  15.6  16.6   19\n",
       "7      Mina   6.1   7.1   19\n",
       "8    Rezvan  14.3  15.3   19\n",
       "9      Omid  18.0  19.0   19"
      ]
     },
     "execution_count": 16,
     "metadata": {},
     "output_type": "execute_result"
    }
   ],
   "source": [
    "df"
   ]
  },
  {
   "cell_type": "markdown",
   "id": "84ed95a8-5e48-4894-aa23-ff9e0817cfb1",
   "metadata": {},
   "source": [
    "### Merging"
   ]
  },
  {
   "cell_type": "code",
   "execution_count": 17,
   "id": "99810d54-40c9-414d-9b3b-47676be919d0",
   "metadata": {},
   "outputs": [
    {
     "name": "stdout",
     "output_type": "stream",
     "text": [
      "     Name  GPA Class  Absence   Food\n",
      "0     Ali   20     A        2   True\n",
      "1  Danial   19     B        0  False\n",
      "2  Rezvan   15     C        5  False\n",
      "3   Moosa   20     D        0  False\n"
     ]
    }
   ],
   "source": [
    "import pandas as pd\n",
    "\n",
    "\n",
    "gholizade_df = pd.DataFrame({\n",
    "    'Name': ['Ali', 'Danial', 'Rezvan', 'Moosa'],\n",
    "    'GPA': [20, 19, 15, 20],\n",
    "    'Class': ['A', 'B', 'C', 'D']\n",
    "})\n",
    "\n",
    "amiri_df = pd.DataFrame({\n",
    "    'Absence': [2, 0, 5, 0],\n",
    "    'Food': [True, False, False, False],\n",
    "    'Class': ['A', 'B', 'C', 'D']\n",
    "})\n",
    "\n",
    "\n",
    "merged = pd.merge(gholizade_df, amiri_df)\n",
    "print(merged)"
   ]
  },
  {
   "cell_type": "markdown",
   "id": "07d8c124-c076-44ea-836a-73a069a42db1",
   "metadata": {},
   "source": [
    "### joining"
   ]
  },
  {
   "cell_type": "code",
   "execution_count": 33,
   "id": "a082d920-8535-47f9-a86d-d01bbd8a874b",
   "metadata": {},
   "outputs": [],
   "source": [
    "\n",
    "gholizade_df = pd.DataFrame({\n",
    "    'Name': ['Ali', 'Danial', 'Rezvan', 'Moosa'],\n",
    "    'GPA': [20, 19, 15, 20],\n",
    "    }, index=['A', 'B', 'C', 'D'])\n",
    "\n",
    "amiri_df = pd.DataFrame({\n",
    "    'Absence': [2, 0, 5, 0],\n",
    "    'Food': [True, False, False, False],\n",
    "    }, index=['A', 'B', 'C', 'D'])\n",
    "\n",
    "\n",
    "joined_df = gholizade_df.join(amiri_df)\n",
    "# print(joined_df)"
   ]
  },
  {
   "cell_type": "markdown",
   "id": "83cc620f-e44a-442d-a962-2460416bc18e",
   "metadata": {},
   "source": [
    "### concatinating"
   ]
  },
  {
   "cell_type": "code",
   "execution_count": 56,
   "id": "c984a6bc-ea14-46cd-b331-1d432ee35e88",
   "metadata": {},
   "outputs": [
    {
     "name": "stdout",
     "output_type": "stream",
     "text": [
      "     Name  GPA  Absence   Food\n",
      "0     Ali   20        2   True\n",
      "1  Danial   19        0  False\n",
      "2  Rezvan   15        5  False\n",
      "3   Moosa   20        0  False\n"
     ]
    }
   ],
   "source": [
    "\n",
    "gholizade_df = pd.DataFrame({\n",
    "    'Name': ['Ali', 'Danial', 'Rezvan', 'Moosa'],\n",
    "    'GPA': [20, 19, 15, 20],\n",
    "    })\n",
    "\n",
    "amiri_df = pd.DataFrame({\n",
    "    'Name': ['Reza', 'Hadi', 'Milad', 'Sana'],\n",
    "    'GPA': [12, 11, 14, 12],\n",
    "    })\n",
    "\n",
    "concatenated = pd.concat([gholizade_df, amiri_df], axis=0, ignore_index=True)\n",
    "print(concatenated)"
   ]
  },
  {
   "cell_type": "code",
   "execution_count": null,
   "id": "8687fe52-b845-4ceb-9435-b1d7bc00401e",
   "metadata": {},
   "outputs": [],
   "source": []
  }
 ],
 "metadata": {
  "kernelspec": {
   "display_name": "myenv",
   "language": "python",
   "name": "myenv"
  },
  "language_info": {
   "codemirror_mode": {
    "name": "ipython",
    "version": 3
   },
   "file_extension": ".py",
   "mimetype": "text/x-python",
   "name": "python",
   "nbconvert_exporter": "python",
   "pygments_lexer": "ipython3",
   "version": "3.10.2"
  }
 },
 "nbformat": 4,
 "nbformat_minor": 5
}
