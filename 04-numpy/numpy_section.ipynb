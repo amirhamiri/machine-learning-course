{
 "cells": [
  {
   "cell_type": "code",
   "execution_count": 2,
   "metadata": {},
   "outputs": [],
   "source": [
    "import numpy as np"
   ]
  },
  {
   "cell_type": "markdown",
   "metadata": {},
   "source": []
  },
  {
   "cell_type": "markdown",
   "metadata": {},
   "source": [
    "### Creating a 1D array"
   ]
  },
  {
   "cell_type": "code",
   "execution_count": 3,
   "metadata": {},
   "outputs": [
    {
     "name": "stdout",
     "output_type": "stream",
     "text": [
      "[1 2 3]\n",
      "number of dimension:  1\n"
     ]
    }
   ],
   "source": [
    "arr = np.array([1, 2, 3])\n",
    "print(arr)\n",
    "print(\"number of dimension: \",arr.ndim)"
   ]
  },
  {
   "cell_type": "markdown",
   "metadata": {},
   "source": [
    "### Creating a 2D array"
   ]
  },
  {
   "cell_type": "code",
   "execution_count": 4,
   "metadata": {
    "scrolled": false
   },
   "outputs": [
    {
     "name": "stdout",
     "output_type": "stream",
     "text": [
      "[[1 2 3]\n",
      " [4 5 6]]\n",
      "number of dimension:  2\n"
     ]
    }
   ],
   "source": [
    "arr_2d = np.array([[1, 2, 3],[4, 5, 6]])\n",
    "print(arr_2d)\n",
    "print(\"number of dimension: \",arr_2d.ndim)"
   ]
  },
  {
   "cell_type": "markdown",
   "metadata": {},
   "source": [
    "### Array Atrributes"
   ]
  },
  {
   "cell_type": "code",
   "execution_count": 5,
   "metadata": {},
   "outputs": [
    {
     "name": "stdout",
     "output_type": "stream",
     "text": [
      "2\n",
      "(2, 3)\n",
      "6\n",
      "int32\n"
     ]
    }
   ],
   "source": [
    "# checking number of dimension\n",
    "print(arr_2d.ndim)\n",
    "\n",
    "# checking shape of the array\n",
    "print(arr_2d.shape)\n",
    "\n",
    "# checking total number of the elements\n",
    "print(arr_2d.size)\n",
    "\n",
    "# checking data type of elements\n",
    "print(arr_2d.dtype)"
   ]
  },
  {
   "cell_type": "markdown",
   "metadata": {},
   "source": [
    "### indexing"
   ]
  },
  {
   "cell_type": "code",
   "execution_count": 6,
   "metadata": {},
   "outputs": [
    {
     "name": "stdout",
     "output_type": "stream",
     "text": [
      "1\n",
      "3\n",
      "5\n"
     ]
    }
   ],
   "source": [
    "# Define a numpy array\n",
    "arr = np.array([1, 2, 3, 4, 5])\n",
    "\n",
    "# Access the first element\n",
    "print(arr[0])\n",
    "\n",
    "# Access the third element\n",
    "print(arr[2])\n",
    "\n",
    "# Access the last element\n",
    "print(arr[-1])\n"
   ]
  },
  {
   "cell_type": "code",
   "execution_count": 7,
   "metadata": {},
   "outputs": [
    {
     "name": "stdout",
     "output_type": "stream",
     "text": [
      "[[1 2 3]\n",
      " [4 5 6]\n",
      " [7 8 9]]\n",
      "1\n",
      "6\n",
      "8\n"
     ]
    }
   ],
   "source": [
    "# Define a 2D numpy array\n",
    "arr_2d = np.array([[1, 2, 3], [4, 5, 6], [7, 8, 9]])\n",
    "\n",
    "print(arr_2d)\n",
    "# Access the first element of the first row\n",
    "print(arr_2d[0, 0]) \n",
    "\n",
    "# Access the third element of the second row\n",
    "print(arr_2d[1, 2])\n",
    "\n",
    "# Access the second element of the last row\n",
    "print(arr_2d[-1, 1])"
   ]
  },
  {
   "cell_type": "markdown",
   "metadata": {},
   "source": [
    "### Slicing"
   ]
  },
  {
   "cell_type": "code",
   "execution_count": 8,
   "metadata": {},
   "outputs": [
    {
     "name": "stdout",
     "output_type": "stream",
     "text": [
      "[1 2 3 4 5]\n",
      "[0 1 2 3 4]\n",
      "[5 6 7 8 9]\n",
      "[0 2 4 6 8]\n"
     ]
    }
   ],
   "source": [
    "arr = np.array([0, 1, 2, 3, 4, 5, 6, 7, 8, 9])\n",
    "\n",
    "# slicing from the index 1 to index 5\n",
    "print(arr[1:6])\n",
    "\n",
    "# slicing frm the beginning to index 4\n",
    "print(arr[:5])\n",
    "\n",
    "# slicing from index 5to the end of the array\n",
    "print(arr[5:])\n",
    "\n",
    "# slicing evry other element in the array\n",
    "print(arr[::2])\n"
   ]
  },
  {
   "cell_type": "code",
   "execution_count": 9,
   "metadata": {},
   "outputs": [
    {
     "name": "stdout",
     "output_type": "stream",
     "text": [
      "[[1 2 3]\n",
      " [6 7 8]]\n",
      "[[ 4  5]\n",
      " [ 9 10]\n",
      " [14 15]]\n",
      "8\n"
     ]
    }
   ],
   "source": [
    "arr_2d = np.array([[1, 2, 3, 4, 5], [6, 7, 8, 9, 10], [11, 12, 13, 14, 15]])\n",
    "\n",
    "\n",
    "# slicing first 2 rows and 3 columns\n",
    "print(arr_2d[:2, :3])\n",
    "\n",
    "# slicing all rows and the last two columns\n",
    "print(arr_2d[:, -2:])\n",
    "\n",
    "print(arr_2d[1, -3])"
   ]
  },
  {
   "cell_type": "markdown",
   "metadata": {},
   "source": [
    "### Basic Operations"
   ]
  },
  {
   "cell_type": "code",
   "execution_count": 10,
   "metadata": {},
   "outputs": [
    {
     "name": "stdout",
     "output_type": "stream",
     "text": [
      "[4.  2.5 2. ]\n"
     ]
    }
   ],
   "source": [
    "arr1 = np.array([1, 2, 3])\n",
    "arr2 = np.array([4, 5, 6])\n",
    "\n",
    "# Addition\n",
    "# print(arr1 + arr2)\n",
    "\n",
    "# Subtraction\n",
    "# print(arr1 - arr2)\n",
    "\n",
    "# Multiplication\n",
    "# print(arr1 * arr2)\n",
    "\n",
    "# Division\n",
    "print(arr2 / arr1)"
   ]
  },
  {
   "cell_type": "markdown",
   "metadata": {},
   "source": [
    "### Aggregation Functions"
   ]
  },
  {
   "cell_type": "code",
   "execution_count": 11,
   "metadata": {},
   "outputs": [
    {
     "name": "stdout",
     "output_type": "stream",
     "text": [
      "0.816496580927726\n"
     ]
    }
   ],
   "source": [
    "arr1 = np.array([1, 2, 3])\n",
    "\n",
    "# print(arr1.sum())\n",
    "\n",
    "# print(arr1.min())\n",
    "\n",
    "# print(arr1.max())\n",
    "\n",
    "# print(arr1.mean())\n",
    "\n",
    "# print(np.average(arr1))\n",
    "\n",
    "print(arr1.std())"
   ]
  },
  {
   "cell_type": "markdown",
   "metadata": {},
   "source": [
    "### example"
   ]
  },
  {
   "cell_type": "code",
   "execution_count": 12,
   "metadata": {},
   "outputs": [
    {
     "name": "stdout",
     "output_type": "stream",
     "text": [
      "13.8\n",
      "14.0\n",
      "---------\n",
      "0.7483314773547882\n",
      "4.898979485566356\n"
     ]
    }
   ],
   "source": [
    "a = np.array([13, 15, 14, 14,13])\n",
    "b = np.array([10, 20, 10, 20, 10])\n",
    "\n",
    "print(a.mean())\n",
    "print(b.mean())\n",
    "print(\"---------\")\n",
    "print(a.std())\n",
    "print(b.std())"
   ]
  },
  {
   "cell_type": "markdown",
   "metadata": {},
   "source": [
    "### variance"
   ]
  },
  {
   "cell_type": "code",
   "execution_count": 33,
   "metadata": {
    "scrolled": true
   },
   "outputs": [
    {
     "name": "stdout",
     "output_type": "stream",
     "text": [
      "0.6666666666666666\n",
      "0.816496580927726\n",
      "0.816496580927726\n"
     ]
    }
   ],
   "source": [
    "a = np.array([1, 2, 3])\n",
    "\n",
    "v = a.var()\n",
    "print(v)\n",
    "\n",
    "s = np.sqrt(v)\n",
    "\n",
    "print(s)\n",
    "\n",
    "sd = a.std()\n",
    "\n",
    "print(sd)"
   ]
  },
  {
   "cell_type": "markdown",
   "metadata": {},
   "source": [
    "### Reshaping "
   ]
  },
  {
   "cell_type": "code",
   "execution_count": 45,
   "metadata": {},
   "outputs": [],
   "source": [
    "arr = np.array([[1, 2, 3], [4, 5, 6]])\n",
    "# print(arr)\n",
    "# print(arr.reshape(3, 2))"
   ]
  },
  {
   "cell_type": "markdown",
   "metadata": {},
   "source": [
    "### Flattening"
   ]
  },
  {
   "cell_type": "code",
   "execution_count": 54,
   "metadata": {},
   "outputs": [
    {
     "name": "stdout",
     "output_type": "stream",
     "text": [
      "[[1 2 3]\n",
      " [4 5 6]]\n",
      "[1 2 3 4 5 6]\n"
     ]
    }
   ],
   "source": [
    "arr = np.array([[1, 2, 3], [4, 5, 6]])\n",
    "\n",
    "print(arr)\n",
    "print(arr.ravel())"
   ]
  },
  {
   "cell_type": "markdown",
   "metadata": {},
   "source": [
    "### student grades"
   ]
  },
  {
   "cell_type": "code",
   "execution_count": 59,
   "metadata": {},
   "outputs": [
    {
     "name": "stdout",
     "output_type": "stream",
     "text": [
      "[13 14 13 17 20 20 15 19 20 15 17 20 12 18 19]\n",
      "[[13 14 13 17 20]\n",
      " [20 15 19 20 15]\n",
      " [17 20 12 18 19]]\n"
     ]
    }
   ],
   "source": [
    "scores = np.array([\n",
    "    [13, 14, 13, 17, 20],\n",
    "    [20, 15, 19, 20, 15],\n",
    "    [17, 20, 12, 18, 19],\n",
    "])\n",
    "\n",
    "flattened_scores = scores.flatten()\n",
    "print(flattened_scores)\n",
    "\n",
    "reshaped_scores = flattened_scores.reshape(3, 5)\n",
    "print(reshaped_scores)"
   ]
  },
  {
   "cell_type": "markdown",
   "metadata": {},
   "source": [
    "### project"
   ]
  },
  {
   "cell_type": "code",
   "execution_count": 90,
   "metadata": {},
   "outputs": [
    {
     "name": "stdout",
     "output_type": "stream",
     "text": [
      "16.26\n",
      "student averages:  [20.  16.  19.  14.  17.8 12.6 15.  18.2 16.4 13.6]\n"
     ]
    }
   ],
   "source": [
    "grades = np.array([\n",
    "    [20, 20, 20, 20, 20],\n",
    "    [15, 17, 16, 16, 16],\n",
    "    [18, 19, 19, 20, 19],\n",
    "    [14, 13, 14, 15, 14],\n",
    "    [17, 18, 18, 18, 18],\n",
    "    [12, 12, 13, 13, 13],\n",
    "    [15, 16, 15, 15, 14],\n",
    "    [18, 18, 18, 19, 18],\n",
    "    [16, 17, 16, 17, 16],\n",
    "    [13, 13, 14, 14, 14]\n",
    "])\n",
    "class_average = np.mean(grades)\n",
    "print(average)\n",
    "\n",
    "student_averages = np.mean(grades, axis=1)\n",
    "print(\"student averages: \",student_averages)"
   ]
  },
  {
   "cell_type": "code",
   "execution_count": 91,
   "metadata": {},
   "outputs": [
    {
     "name": "stdout",
     "output_type": "stream",
     "text": [
      "top students:  [1 3 8]\n"
     ]
    }
   ],
   "source": [
    "top_students = np.argsort(student_averages)[-3:][::-1]\n",
    "print(\"top students: \",top_students + 1)"
   ]
  },
  {
   "cell_type": "code",
   "execution_count": 106,
   "metadata": {},
   "outputs": [
    {
     "name": "stdout",
     "output_type": "stream",
     "text": [
      "subject averages:  [15.8 16.3 16.3 16.7 16.2]\n",
      "top subject:  3\n",
      "top subject is: English\n"
     ]
    }
   ],
   "source": [
    "subject_averages = np.mean(grades, axis=0)\n",
    "print(\"subject averages: \", subject_averages)\n",
    "\n",
    "top_subject = np.argmax(subject_averages)\n",
    "print(\"top subject: \", top_subject)\n",
    "\n",
    "subjects = [\"Math\", \"Physics\", \"Biology\", \"English\", \"History\"]\n",
    "print(f\"top subject is: {subjects[top_subject]}\")\n"
   ]
  },
  {
   "cell_type": "code",
   "execution_count": 108,
   "metadata": {},
   "outputs": [
    {
     "name": "stdout",
     "output_type": "stream",
     "text": [
      "[5.56 6.81 5.01 5.61 5.36]\n",
      "[2.35796522 2.60959767 2.23830293 2.36854386 2.31516738]\n"
     ]
    }
   ],
   "source": [
    "variances = np.var(grades, axis=0)\n",
    "print(variances)\n",
    "stds = np.std(grades, axis=0)\n",
    "print(stds)"
   ]
  },
  {
   "cell_type": "code",
   "execution_count": 129,
   "metadata": {},
   "outputs": [
    {
     "name": "stdout",
     "output_type": "stream",
     "text": [
      "6\n"
     ]
    }
   ],
   "source": [
    "top_grades = np.all(grades > 17, axis=1)\n",
    "a = np.array([1,2,3])\n",
    "counts = np.sum(a)\n",
    "print(counts)"
   ]
  },
  {
   "cell_type": "code",
   "execution_count": null,
   "metadata": {},
   "outputs": [],
   "source": []
  }
 ],
 "metadata": {
  "kernelspec": {
   "display_name": "myenv",
   "language": "python",
   "name": "myenv"
  },
  "language_info": {
   "codemirror_mode": {
    "name": "ipython",
    "version": 3
   },
   "file_extension": ".py",
   "mimetype": "text/x-python",
   "name": "python",
   "nbconvert_exporter": "python",
   "pygments_lexer": "ipython3",
   "version": "3.10.2"
  }
 },
 "nbformat": 4,
 "nbformat_minor": 2
}
